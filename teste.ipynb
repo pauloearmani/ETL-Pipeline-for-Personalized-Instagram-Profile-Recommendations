{
 "cells": [
  {
   "cell_type": "code",
   "execution_count": 6,
   "id": "30baf653-8cf1-439a-9767-a0667f55d156",
   "metadata": {},
   "outputs": [
    {
     "name": "stdout",
     "output_type": "stream",
     "text": [
      "Defaulting to user installation because normal site-packages is not writeable\n",
      "Collecting pandas\n",
      "  Downloading pandas-2.2.2-cp310-cp310-manylinux_2_17_x86_64.manylinux2014_x86_64.whl (13.0 MB)\n",
      "\u001b[2K     \u001b[38;2;114;156;31m━━━━━━━━━━━━━━━━━━━━━━━━━━━━━━━━━━━━━━━━\u001b[0m \u001b[32m13.0/13.0 MB\u001b[0m \u001b[31m32.1 MB/s\u001b[0m eta \u001b[36m0:00:00\u001b[0mm eta \u001b[36m0:00:01\u001b[0m0:01\u001b[0m01\u001b[0m\n",
      "\u001b[?25hCollecting tzdata>=2022.7\n",
      "  Downloading tzdata-2024.1-py2.py3-none-any.whl (345 kB)\n",
      "\u001b[2K     \u001b[38;2;114;156;31m━━━━━━━━━━━━━━━━━━━━━━━━━━━━━━━━━━━━━━\u001b[0m \u001b[32m345.4/345.4 KB\u001b[0m \u001b[31m31.8 MB/s\u001b[0m eta \u001b[36m0:00:00\u001b[0m\n",
      "\u001b[?25hRequirement already satisfied: pytz>=2020.1 in /usr/lib/python3/dist-packages (from pandas) (2022.1)\n",
      "Requirement already satisfied: numpy>=1.22.4 in /home/paulo/.local/lib/python3.10/site-packages (from pandas) (1.23.5)\n",
      "Requirement already satisfied: python-dateutil>=2.8.2 in /home/paulo/.local/lib/python3.10/site-packages (from pandas) (2.9.0.post0)\n",
      "Requirement already satisfied: six>=1.5 in /usr/lib/python3/dist-packages (from python-dateutil>=2.8.2->pandas) (1.16.0)\n",
      "Installing collected packages: tzdata, pandas\n",
      "Successfully installed pandas-2.2.2 tzdata-2024.1\n",
      "Note: you may need to restart the kernel to use updated packages.\n"
     ]
    }
   ],
   "source": [
    "pip install pandas"
   ]
  },
  {
   "cell_type": "code",
   "execution_count": 8,
   "id": "9d3841dd-1a45-475d-9905-f87f2f65d1b9",
   "metadata": {},
   "outputs": [
    {
     "name": "stdout",
     "output_type": "stream",
     "text": [
      "[1, 2, 3, 4, 5, 6, 7, 8, 9, 10]\n"
     ]
    }
   ],
   "source": [
    "import pandas as pd\n",
    "\n",
    "# Ler dados\n",
    "df = pd.read_csv('usuarios.csv')\n",
    "user_ids = df['UserID'].tolist()\n",
    "print(user_ids)"
   ]
  },
  {
   "cell_type": "code",
   "execution_count": 20,
   "id": "bd5d6a6e-3ddf-4b43-8a64-a469f775a021",
   "metadata": {},
   "outputs": [],
   "source": [
    "import openai\n",
    "\n",
    "#openai.api_key = 'sk-proj-2DxRZroeaXKqNdPQGZK0T3BlbkFJj25pjO5ylsS2Pe92e5XU'\n",
    "\n",
    "#def gerar_recomendacao(interesses):\n",
    "#    messages = [\n",
    "#        {\"role\": \"system\", \"content\": \"Você é um assistente que recomenda perfis do Instagram com base em interesses.\"},\n",
    "#        {\"role\": \"user\", \"content\": f\"Recomende um perfil do Instagram para alguém interessado em {interesses}.\"}\n",
    "#    ]\n",
    "#    response = openai.ChatCompletion.create(\n",
    "#        model=\"gpt-3.5-turbo\",\n",
    "#        messages=messages,\n",
    "#        max_tokens=50\n",
    "#    )\n",
    "#    return response.choices[0].message['content'].strip()\n",
    "\n",
    "# Função mock para substituir a chamada real da API do ChatGPT\n",
    "def gerar_recomendacao_mock(interesses):\n",
    "    # Simular uma resposta da API\n",
    "    return f\"instagram_recomendado_para_{interesses.replace(' ', '_')}\"\n"
   ]
  },
  {
   "cell_type": "code",
   "execution_count": 21,
   "id": "37a2d36f-2e1d-470d-93f5-1d7f19303bf0",
   "metadata": {},
   "outputs": [],
   "source": [
    "# Aplicar a função de transformação\n",
    "df['perfil_recomendado'] = df['Interests'].apply(gerar_recomendacao_mock)\n",
    "\n",
    "# Salvar os dados transformados em um novo arquivo CSV\n",
    "df.to_csv('usuarios_com_recomendacoes.csv', index=False)"
   ]
  },
  {
   "cell_type": "code",
   "execution_count": null,
   "id": "0b1f8133-7496-485d-8811-92f138cb40b1",
   "metadata": {},
   "outputs": [],
   "source": []
  }
 ],
 "metadata": {
  "kernelspec": {
   "display_name": "Python 3 (ipykernel)",
   "language": "python",
   "name": "python3"
  },
  "language_info": {
   "codemirror_mode": {
    "name": "ipython",
    "version": 3
   },
   "file_extension": ".py",
   "mimetype": "text/x-python",
   "name": "python",
   "nbconvert_exporter": "python",
   "pygments_lexer": "ipython3",
   "version": "3.10.12"
  }
 },
 "nbformat": 4,
 "nbformat_minor": 5
}
